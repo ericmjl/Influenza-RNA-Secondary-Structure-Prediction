{
 "metadata": {
  "name": "",
  "signature": "sha256:6505d6e945638bd4cffd17b7c5ebddbc1a519212ae4c38ff4c29a28cb6472c53"
 },
 "nbformat": 3,
 "nbformat_minor": 0,
 "worksheets": [
  {
   "cells": [
    {
     "cell_type": "code",
     "collapsed": false,
     "input": [
      "import MI_analyzer as mia # Contains mutual information calculations and the blue-red heat map plotter.\n",
      "import NMI_analyzer as nmia # Contains normalized mutual information calculations and the binary heat map plotter.\n",
      "import fasta_to_numpy as ftn # Turns an alignment into a numpy array.\n",
      "import pandas\n",
      "\n",
      "# First: import our multiple sequence alignment, parse it, reverse complement, and turn it into a numpy array.\n",
      "np_alignment = ftn.Parse_and_reverse_complement('Segment 5 - First-Last 200/Segment 5 NP Aligned and Trimmed First \\\n",
      "and Last 200 nt.fasta')"
     ],
     "language": "python",
     "metadata": {},
     "outputs": [],
     "prompt_number": 39
    },
    {
     "cell_type": "code",
     "collapsed": false,
     "input": [
      "print np_alignment"
     ],
     "language": "python",
     "metadata": {},
     "outputs": [
      {
       "output_type": "stream",
       "stream": "stdout",
       "text": [
        "[['T' 'C' 'A' ..., 'C' 'A' 'T']\n",
        " ['T' 'T' 'A' ..., 'C' 'A' 'T']\n",
        " ['T' 'T' 'A' ..., 'C' 'A' 'T']\n",
        " ..., \n",
        " ['T' 'C' 'A' ..., 'C' 'A' 'T']\n",
        " ['T' 'C' 'A' ..., 'C' 'A' 'T']\n",
        " ['T' 'C' 'A' ..., 'C' 'A' 'T']]\n"
       ]
      }
     ],
     "prompt_number": 40
    },
    {
     "cell_type": "code",
     "collapsed": false,
     "input": [
      "# Measure the normalized and regular mutual information, put each into its own array.\n",
      "nmi_vector  = nmia.Calculate_NMI(np_alignment)\n",
      "mi_vector  = mia.Calculate_MI(np_alignment)"
     ],
     "language": "python",
     "metadata": {},
     "outputs": [],
     "prompt_number": 41
    },
    {
     "cell_type": "code",
     "collapsed": false,
     "input": [
      "\"\"\"\n",
      "The MI_analyzer and NMI_analyzer scripts both create a square array with diagonal symmetry. This is important in case\n",
      "I ever run the scripts individually, in which case I'd want a square matrix to plot. For our figure, though, I combine\n",
      "half of each array into a single array that contains both MI and NMI. I do this by turning the arrays into pandas\n",
      "dataframes, which are easier to work with, and them turning them back into numpy arrays.\n",
      "\"\"\"\n",
      "\n",
      "# Turn both arrays into Pandas dataframes\n",
      "mi_pandas = pandas.DataFrame(mi_vector)\n",
      "nmi_pandas = pandas.DataFrame(nmi_vector)\n",
      "\n",
      "# Replace the upper half of the NMI dataframe with the values from the MI dataframe\n",
      "for i in range(len(mi_pandas)):\n",
      "    for j in range(len(mi_pandas)):\n",
      "        if i < j:\n",
      "            nmi_pandas[i][j] = mi_pandas[i][j]\n",
      "\n",
      "# Set the diagonal to 1 (it had been artificially set to 0 in the NMI_analyzer)\n",
      "for i in range(len(mi_pandas)):\n",
      "    nmi_pandas[i][i] = 1.0\n",
      "    \n",
      "# Turn the finalized MI-NMI dataframe back into a numpy array, which is the input for the plot function.\n",
      "both_info = nmi_pandas.as_matrix()"
     ],
     "language": "python",
     "metadata": {},
     "outputs": [],
     "prompt_number": 43
    },
    {
     "cell_type": "code",
     "collapsed": false,
     "input": [
      "# Plot the MI-NMI heat map.\n",
      "fig = mia.Plot_Binary(both_info, \"Seg5_FL200 Both Info Scores.pdf\", cmap='PuBu')"
     ],
     "language": "python",
     "metadata": {},
     "outputs": [],
     "prompt_number": "*"
    },
    {
     "cell_type": "code",
     "collapsed": false,
     "input": [],
     "language": "python",
     "metadata": {},
     "outputs": []
    }
   ],
   "metadata": {}
  }
 ]
}