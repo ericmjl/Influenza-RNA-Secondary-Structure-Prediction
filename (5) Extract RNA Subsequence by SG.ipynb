{
 "metadata": {
  "name": "",
  "signature": "sha256:88def1976358599c26be241be81f926457dc4160cd81b4a7b3a2c1e93861f292"
 },
 "nbformat": 3,
 "nbformat_minor": 0,
 "worksheets": [
  {
   "cells": [
    {
     "cell_type": "code",
     "collapsed": false,
     "input": [
      "import pandas as pd\n",
      "import numpy as np\n",
      "from Bio import AlignIO\n",
      "from Bio import SeqIO\n",
      "from Bio.SeqRecord import SeqRecord\n",
      "from Bio.Seq import Seq\n",
      "from Bio.Alphabet import generic_dna\n",
      "import random\n",
      "\n",
      "## Souparno Ghosh\n",
      "# This code was used to extract subsequences of specified length from each terminus of Segment 8\n",
      "# so that those extracted sequences could be used as input to RNAalifold of ViennaRNA package"
     ],
     "language": "python",
     "metadata": {},
     "outputs": [],
     "prompt_number": 1
    },
    {
     "cell_type": "code",
     "collapsed": false,
     "input": [
      "#alignment = AlignIO.read('Segment 8 NS1 54 NT Gap Ends.fasta', 'fasta')\n",
      "alignment_full = AlignIO.read('Segment 5 NP Aligned and Trimmed First and Last 100 nt.fasta', 'fasta')\n"
     ],
     "language": "python",
     "metadata": {},
     "outputs": [],
     "prompt_number": 2
    },
    {
     "cell_type": "code",
     "collapsed": false,
     "input": [
      "print alignment_full"
     ],
     "language": "python",
     "metadata": {},
     "outputs": [
      {
       "output_type": "stream",
       "stream": "stdout",
       "text": [
        "SingleLetterAlphabet() alignment with 2895 rows and 200 columns\n",
        "ATGGCGTCTCAAGGCACCAAACGATCATATGAACAAATGGAGAC...TGA CY066978\n",
        "ATGGCGTCCCAAGGCACCAAACGGTCATATGAACAGATGGAAAC...TAA CY026038\n",
        "ATGGCGTCCCAAGGCACCAAACGGTCTTATGAACAGATGGAAAC...TAA CY025862\n",
        "ATGGCGTTCCAAGGCACCAAACGGTCTTATGAACAGATGGAAAC...TAA CY020544\n",
        "ATGGCGTCCCAAGGCACCAAACGGTCTTATGAACAGATGGAAAC...TAA CY020384\n",
        "ATGGCGTCTCAAGGCACCAAACGATCTTATGAACAGATGGAAAC...TAA CY079455\n",
        "ATGGCGTCTCAAGGCACCAAACGATCTTATGAGCAGATGGAAAC...TAA CY138772\n",
        "ATGGCGTCTCAAGGCACCAAACGATCTTATGAACAGATGGAAAC...TAA CY138845\n",
        "ATGGCGTCTCAAGGCACCAAACGATCTTATGAGCAGATGGAAAC...TAA CY138853\n",
        "ATGGCGTCTCAAGGCACCAAACGATCTTATGAGCAGATGGAAAC...TAA CY138861\n",
        "ATGGCGTCTCAAGGCACCAAACGATCTTATGAGCAGATGGAAAC...TAA CY138968\n",
        "ATGGCGTCTCAAGGCACCAAACGATCTTATGAGCAGATGGAAAC...TAA CY139415\n",
        "ATGGCGTCTCAAGGCACCAAACGATCCTATGAACAAATGGAAAC...TAA CY139433\n",
        "ATGGCGTCTCAAGGCACCAAACGATCTTATGAACAGATGGAAAC...TAA CY139462\n",
        "ATGGCGTCTCAAGGCACCAAACGATCTTATGAACAAATGGAAAC...TAA CY129377\n",
        "ATGGCGTCTCAAGGCACCAAACGATCTTATGAGCAGATGGAAAC...TAA CY129337\n",
        "ATGGCGTCTCAAGGCACCAAACGATCTTATGAACAAATGGAAAC...TAA CY129153\n",
        "ATGGCGTCTCAAGGCACCAAACGATCTTATGAACAGATGGAAAC...TGA CY129321\n",
        "...\n",
        "ATGGCGTCTCAAGGCACCAAACGATCATATGAACAAATGGAGAC...TGA GQ457556\n"
       ]
      }
     ],
     "prompt_number": 4
    },
    {
     "cell_type": "code",
     "collapsed": false,
     "input": [
      "num_positions = 10 # change this variable to the desired length.\n",
      "alignment = alignment_full[:,0:num_positions] "
     ],
     "language": "python",
     "metadata": {},
     "outputs": [],
     "prompt_number": 11
    },
    {
     "cell_type": "code",
     "collapsed": false,
     "input": [
      "RC = []\n",
      "for i,j in enumerate(alignment):\n",
      "#RNA = alignment[0].seq.transcribe()\n",
      "#print RNA\n",
      "    #print i,j\n",
      "    #print alignment[0]\n",
      "    RC.append(alignment[i].reverse_complement(id = alignment[i].id))\n",
      "#print RC\n",
      "\n",
      "RC_RNA = []\n",
      "RNA = \"\"\n",
      "for i,record in enumerate(RC):\n",
      "    new_record = SeqRecord(record.seq,record.id)\n",
      "    RNA = RC[i].seq.transcribe()\n",
      "    new_record.seq = RNA\n",
      "    RC_RNA.append(new_record)\n",
      "\t\t\n",
      "# print RC_RNA   \n"
     ],
     "language": "python",
     "metadata": {},
     "outputs": [],
     "prompt_number": 12
    },
    {
     "cell_type": "code",
     "collapsed": false,
     "input": [
      "# Change the filename in output_handle to make sure that it is ok. \n",
      "output_handle = open(\"Segment 5 First %s Positions for Folding.aln\" % num_positions, \"w\")\n",
      "\n",
      "# Write a sampled set of 400 sequences to disk. This will be the input for \n",
      "# ViennaRNA's RNAalifold program.\n",
      "SeqIO.write(random.sample(RC_RNA,400), output_handle, \"clustal\")\n",
      "output_handle.close()\n",
      "\t\t\t"
     ],
     "language": "python",
     "metadata": {},
     "outputs": [],
     "prompt_number": 13
    },
    {
     "cell_type": "code",
     "collapsed": false,
     "input": [],
     "language": "python",
     "metadata": {},
     "outputs": []
    }
   ],
   "metadata": {}
  }
 ]
}